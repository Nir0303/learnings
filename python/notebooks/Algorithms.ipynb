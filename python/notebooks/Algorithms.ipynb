{
 "cells": [
  {
   "cell_type": "markdown",
   "metadata": {},
   "source": [
    "# Algorithms"
   ]
  },
  {
   "cell_type": "markdown",
   "metadata": {},
   "source": [
    "Binary Search"
   ]
  },
  {
   "cell_type": "code",
   "execution_count": 20,
   "metadata": {
    "collapsed": false
   },
   "outputs": [
    {
     "name": "stdout",
     "output_type": "stream",
     "text": [
      "[1, 2, 3, 4, 4, 13, 23, 34]\n",
      "[1, 2, 3, 4, 4, 13, 23, 34] 23 0 3\n",
      "[1, 2, 3, 4, 4, 13, 23, 34] 23 4 5\n",
      "(True, 6)\n"
     ]
    }
   ],
   "source": [
    "from __future__ import print_function\n",
    "a=[1,23,4,3,4,2,13,34]\n",
    "b=sorted(a)\n",
    "def search(L,x):\n",
    "    def bsearch(L,x,low,high):\n",
    "         if low==high:\n",
    "             return L[low]==x,low\n",
    "         mid=(low+high)//2\n",
    "         if L[mid]>x:\n",
    "             print(L,x,low,mid)\n",
    "             return bsearch(L,x,low,mid)\n",
    "         elif L[mid]==x:\n",
    "             return True,mid\n",
    "         else:\n",
    "             print(L,x,low,mid)\n",
    "             return bsearch(L,x,mid+1,high)\n",
    "    if len(L)==0:\n",
    "        return False\n",
    "    else:\n",
    "        return bsearch(L,x,0,len(L)-1)\n",
    "print(b)\n",
    "print(search(b,23))"
   ]
  },
  {
   "cell_type": "markdown",
   "metadata": {
    "collapsed": true
   },
   "source": [
    "Selection Sort"
   ]
  },
  {
   "cell_type": "code",
   "execution_count": 22,
   "metadata": {
    "collapsed": false
   },
   "outputs": [
    {
     "name": "stdout",
     "output_type": "stream",
     "text": [
      "[1, 2, 3, 4, 4, 13, 23, 34]\n"
     ]
    }
   ],
   "source": [
    "def selectionsort(L):\n",
    "    for i in range(len(L)):\n",
    "        minIndex=i\n",
    "        minValue=L[i]\n",
    "        j=i+1\n",
    "        while j <=len(L)-1:\n",
    "            if minValue > L[j]:\n",
    "                minValue,L[j]=L[j],minValue\n",
    "            j+=1\n",
    "\n",
    "            L[i]=minValue\n",
    "            return L\n",
    "print(selectionsort(a))"
   ]
  },
  {
   "cell_type": "code",
   "execution_count": null,
   "metadata": {
    "collapsed": true
   },
   "outputs": [],
   "source": []
  }
 ],
 "metadata": {
  "kernelspec": {
   "display_name": "Python [Root]",
   "language": "python",
   "name": "Python [Root]"
  },
  "language_info": {
   "codemirror_mode": {
    "name": "ipython",
    "version": 2
   },
   "file_extension": ".py",
   "mimetype": "text/x-python",
   "name": "python",
   "nbconvert_exporter": "python",
   "pygments_lexer": "ipython2",
   "version": "2.7.12"
  }
 },
 "nbformat": 4,
 "nbformat_minor": 0
}

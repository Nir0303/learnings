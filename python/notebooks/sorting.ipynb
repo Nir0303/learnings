{
 "cells": [
  {
   "cell_type": "raw",
   "metadata": {},
   "source": [
    "Comparison Sorting"
   ]
  },
  {
   "cell_type": "markdown",
   "metadata": {},
   "source": [
    "selection Sort"
   ]
  },
  {
   "cell_type": "code",
   "execution_count": 10,
   "metadata": {
    "collapsed": false
   },
   "outputs": [
    {
     "name": "stdout",
     "output_type": "stream",
     "text": [
      "[1, 2, 3, 4, 5]\n"
     ]
    }
   ],
   "source": [
    "from __future__ import print_function\n",
    "\n",
    "def selectionSort(A):\n",
    "    \n",
    "    for i in range(len(A)-2):\n",
    "        x=A[i]\n",
    "        j=i+1\n",
    "        while j<len(A):\n",
    "            if A[i]>A[j]:\n",
    "                A[i],A[j]=A[j],A[i]\n",
    "            j+=1\n",
    "    return A\n",
    "a=[2,3,4,1,5]\n",
    "print(selectionSort(a))\n"
   ]
  },
  {
   "cell_type": "markdown",
   "metadata": {},
   "source": [
    "MergeSort"
   ]
  },
  {
   "cell_type": "code",
   "execution_count": 25,
   "metadata": {
    "collapsed": false
   },
   "outputs": [
    {
     "name": "stdout",
     "output_type": "stream",
     "text": [
      "[1, 2, 3, 4, 5]\n"
     ]
    }
   ],
   "source": [
    "def mergeSort(A):\n",
    "    if len(A)<2:\n",
    "        return A[:]\n",
    "    else:\n",
    "        mid=(len(A))/2\n",
    "        left=mergeSort(A[:mid])\n",
    "        right=mergeSort(A[mid:])\n",
    "        return merge(left,right)\n",
    "def merge(left,right):\n",
    "    i,j=0,0\n",
    "    result=[]\n",
    "    while i<len(left) and j<len(right):\n",
    "        if left[i]<right[j]:\n",
    "            result.append(left[i])\n",
    "            i+=1\n",
    "        else:\n",
    "            result.append(right[j])\n",
    "            j+=1\n",
    "    if i<len(left):\n",
    "        result.extend(left[i:])\n",
    "    if j<len(right):\n",
    "        result.extend(right[j:])\n",
    "    #print(result)\n",
    "    return result\n",
    "a=[2,3,4,1,5]\n",
    "print(mergeSort(a))"
   ]
  },
  {
   "cell_type": "markdown",
   "metadata": {},
   "source": [
    " Quick Sort"
   ]
  },
  {
   "cell_type": "code",
   "execution_count": 9,
   "metadata": {
    "collapsed": false
   },
   "outputs": [
    {
     "name": "stdout",
     "output_type": "stream",
     "text": [
      "[1, 2, 3, 4]\n"
     ]
    }
   ],
   "source": [
    "def partition(A,low,high):\n",
    "    i=low-1\n",
    "    x=A[high]\n",
    "    for j in range(low,high-1):\n",
    "        if A[j]<=x:\n",
    "            i=i+1\n",
    "            A[i],A[j]=A[j],A[i]\n",
    "    A[high],A[i+1]=A[i+1],A[high]\n",
    "    return i+1\n",
    "global cnt\n",
    "cnt=0\n",
    "def quicksort(A,low,high):\n",
    "    if low<high:\n",
    "        q=partition(A,low,high)\n",
    "        global cnt\n",
    "        cnt+=len(A[low:q-1])\n",
    "        cnt+=len(A[q+1:low])\n",
    "        quicksort(A,low,q-1)\n",
    "        quicksort(A,q+1,high)\n",
    "        return cnt,A\n",
    "\n",
    "    \n",
    "x=open(\"data.txt\")\n",
    "a=[]\n",
    "for i in x.readlines():\n",
    "    t=i.split()\n",
    "    a.append(int(t[0]))\n",
    "a=[2,3,4,1]\n",
    "#print a\n",
    "cnt,A = quicksort(a,0,len(a)-1)\n",
    "#global cnt\n",
    "print(A)"
   ]
  },
  {
   "cell_type": "code",
   "execution_count": 3,
   "metadata": {
    "collapsed": false
   },
   "outputs": [
    {
     "name": "stdout",
     "output_type": "stream",
     "text": [
      "[1, 2, 3, 4]\n"
     ]
    }
   ],
   "source": [
    "print a"
   ]
  },
  {
   "cell_type": "raw",
   "metadata": {},
   "source": [
    "countingsort"
   ]
  },
  {
   "cell_type": "code",
   "execution_count": 52,
   "metadata": {
    "collapsed": false
   },
   "outputs": [
    {
     "name": "stdout",
     "output_type": "stream",
     "text": [
      "['0', '1', '2', '3']\n"
     ]
    }
   ],
   "source": [
    "def countSort(arr):\n",
    " \n",
    "    # The output character array that will have sorted arr\n",
    "    output = [0 for i in range(256)]\n",
    " \n",
    "    # Create a count array to store count of inidividul\n",
    "    # characters and initialize count array as 0\n",
    "    count = [0 for i in range(256)]\n",
    " \n",
    "    # For storing the resulting answer since the \n",
    "    # string is immutable\n",
    "    ans = [\"\" for _ in arr]\n",
    " \n",
    "    # Store count of each character\n",
    "    for i in arr:\n",
    "        count[ord(i)] += 1\n",
    " \n",
    "    # Change count[i] so that count[i] now contains actual\n",
    "    # position of this character in output array\n",
    "    for i in range(256):\n",
    "        count[i] += count[i-1]\n",
    " \n",
    "    # Build the output character array\n",
    "    for i in range(len(arr)):\n",
    "        output[count[ord(arr[i])]-1] = arr[i]\n",
    "        count[ord(arr[i])] -= 1\n",
    " \n",
    "    # Copy the output array to arr, so that arr now\n",
    "    # contains sorted characters\n",
    "    for i in range(len(arr)):\n",
    "        ans[i] = output[i]\n",
    "    return ans\n",
    "\n",
    "a=['0','3','2','1']\n",
    "print(countSort(a))"
   ]
  },
  {
   "cell_type": "raw",
   "metadata": {},
   "source": [
    "Radix Sort"
   ]
  },
  {
   "cell_type": "code",
   "execution_count": 70,
   "metadata": {
    "collapsed": false
   },
   "outputs": [
    {
     "name": "stdout",
     "output_type": "stream",
     "text": [
      "[1, 4, 7, 12, 23, 34, 234, 446]\n"
     ]
    }
   ],
   "source": [
    "def countingSort(arr,exp):\n",
    "    output=[0]*len(arr)\n",
    "    count=[0]*10\n",
    "    for i in range(len(arr)):\n",
    "        index=arr[i]/exp\n",
    "        count[index%10]+=1\n",
    "    for i in range(1,10):\n",
    "        count[i]+=count[i-1]\n",
    "    for i in range(len(arr)-1,-1,-1):\n",
    "        index=arr[i]/exp\n",
    "        output[count[(index)%10]-1]=arr[i]\n",
    "        count[index%10]-=1\n",
    "    for i in range(len(arr)):\n",
    "        arr[i]=output[i]\n",
    "\n",
    "def radixSort(arr):\n",
    "    max1=max(arr)\n",
    "    exp=1\n",
    "    #print(max1)\n",
    "    while max1/exp>1:\n",
    "        #print(max1/exp)\n",
    "        countingSort(arr,exp)\n",
    "        exp*=10\n",
    "        #print(arr)\n",
    "    #return arr\n",
    "        \n",
    "arr=[23,12,34,7,446,1,234,4]\n",
    "radixSort(arr)\n",
    "print(arr)\n"
   ]
  },
  {
   "cell_type": "code",
   "execution_count": null,
   "metadata": {
    "collapsed": true
   },
   "outputs": [],
   "source": []
  }
 ],
 "metadata": {
  "anaconda-cloud": {},
  "kernelspec": {
   "display_name": "Python [Root]",
   "language": "python",
   "name": "Python [Root]"
  },
  "language_info": {
   "codemirror_mode": {
    "name": "ipython",
    "version": 2
   },
   "file_extension": ".py",
   "mimetype": "text/x-python",
   "name": "python",
   "nbconvert_exporter": "python",
   "pygments_lexer": "ipython2",
   "version": "2.7.12"
  }
 },
 "nbformat": 4,
 "nbformat_minor": 0
}
